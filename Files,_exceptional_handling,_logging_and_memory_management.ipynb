{
  "nbformat": 4,
  "nbformat_minor": 0,
  "metadata": {
    "colab": {
      "provenance": []
    },
    "kernelspec": {
      "name": "python3",
      "display_name": "Python 3"
    },
    "language_info": {
      "name": "python"
    }
  },
  "cells": [
    {
      "cell_type": "code",
      "execution_count": null,
      "metadata": {
        "id": "Us2Zv32AQWEB"
      },
      "outputs": [],
      "source": []
    },
    {
      "cell_type": "markdown",
      "source": [
        "Files, exceptional handling,\n",
        "logging and memory\n",
        "management"
      ],
      "metadata": {
        "id": "-f1_RAq6QqNF"
      }
    },
    {
      "cell_type": "markdown",
      "source": [
        "1- What is the difference between interpreted and compiled languages?\n",
        "\n",
        "  The main difference between compiled and interpreted languages lies in how the source code is executed. Compiled languages are translated into machine code before runtime, allowing for faster execution, while interpreted languages are executed line by line by an interpreter at runtime, which can be slower but offer more flexibility.\n",
        "\n",
        "2- What is exception handling in Python ?\n",
        "\n",
        "  Exception handling in Python is a mechanism used to manage and respond to runtime errors, known as exceptions, that occur during the execution of a program. These exceptions are objects that represent errors, and if left unhandled, they can cause the program to terminate abruptly.\n",
        "\n",
        "  3-What is the purpose of the finally block in exception handling\n",
        "\n",
        "  The finally block in exception handling ensures that a specific block of code is always executed, regardless of whether an exception is thrown or caught within the try block. Its primary purpose is to perform necessary cleanup operations, such as releasing resources (closing files, database connections, etc.) or performing other final actions, to prevent resource leaks and ensure proper program termination\n",
        "\n",
        "\n",
        "4-  What is logging in Python\n",
        "\n",
        " Logging in Python is the process of tracking and recording events that occur during the execution of a program. It involves using the built-in logging module to capture information about the program's state, errors, warnings, and other significant events.\n",
        "\n",
        "\n",
        "5- What is the significance of the __del__ method in Python\n",
        "\n",
        " The __del__ method in Python, often referred to as a destructor or finalizer, holds significance for defining cleanup actions when an object is about to be destroyed.\n",
        "\n",
        "\n",
        "6- What is the difference between import and from ... import in Python\n",
        "\n",
        "   In Python, both import and from ... import are used to bring modules or specific components from modules into the current namespace, but they differ in how they achieve this\n",
        "\n",
        "7- How can you handle multiple exceptions in Python\n",
        "\n",
        "   In Python, multiple exceptions can be handled within a single try block using except clauses. There are two primary ways to achieve this:\n",
        "1. Multiple except Clauses:\n",
        "This method involves using separate except blocks for each specific exception you want to handle. This allows for different handling logic based on the type of exception encountered.\n",
        "2. Single except Clause with a Tuple of Exceptions:\n",
        "When multiple exceptions require the same handling logic, they can be grouped into a tuple within a single except clause\n",
        "\n",
        "8- What is the purpose of the with statement when handling files in Python\n",
        "\n",
        "   The with statement in Python, when used with file handling, serves the primary purpose of ensuring proper and automatic resource management, specifically for file objects.\n",
        "\n",
        "9- What is the difference between multithreading and multiprocessing\n",
        "\n",
        "   Multithreading and multiprocessing are both techniques used to achieve concurrency, but they differ in how they achieve it. Multithreading involves dividing a process into multiple threads that can execute concurrently within the same process, while multiprocessing involves using multiple processors to run multiple processes simultaneously\n",
        "\n",
        "10- What are the advantages of using logging in a program\n",
        "\n",
        "It helps debug errors easily.\n",
        "It's more perceptive than traceback methods.\n",
        "It can be used to save info on warnings, errors and other events.\n",
        "Logs can analyze the history of the program and provide insights, patterns and trends\n",
        "\n",
        "11-What is memory management in Python\n",
        "\n",
        "\n",
        "Memory management in Python involves the management of a private heap. A private heap is a portion of memory that is exclusive to the Python process. All Python objects and data structures are stored in the private heap. The operating system cannot allocate this piece of memory to another process.\n",
        "\n",
        "\n",
        "12-What are the basic steps involved in exception handling in Python\n",
        "\n",
        "   Exception handling in Python involves several basic steps using try, except, else, and finally blocks\n",
        "\n",
        "13-  Why is memory management important in Python\n",
        "  Memory management is important in Python, despite its automatic nature, for several reasons:\n",
        "Efficiency and Performance:\n",
        "While Python handles memory allocation and deallocation automatically, inefficient memory usage can still lead to performance bottlenecks. Understanding how Python manages memory allows developers to write code that uses resources more efficiently, leading to faster execution and reduced memory footprint. This is particularly crucial for applications dealing with large datasets or requiring high performance, such as in data science, machine learning, and web development.\n",
        "Preventing Memory Leaks:\n",
        "Although Python's garbage collector aims to free up unused memory, certain programming patterns can inadvertently lead to memory leaks. This occurs when objects are no longer needed but remain referenced, preventing the garbage collector from reclaiming their memory. Awareness of memory management concepts helps in identifying and preventing such leaks, ensuring the application remains stable and performs optimally over time.\n",
        "Resource Optimization:\n",
        "Efficient memory management contributes to better resource utilization. By minimizing unnecessary memory consumption, applications can run effectively on systems with limited resources, or allow more applications to run concurrently on the same system.\n",
        "Debugging and Troubleshooting:\n",
        "Understanding Python's memory model, including concepts like reference counting and garbage collection, is essential for debugging memory-related issues. When an application experiences high memory usage or crashes due to out-of-memory errors, knowledge of memory management helps in pinpointing the source of the problem and implementing effective solutions.\n",
        "Writing Optimized Code:\n",
        "Knowing how Python stores different data types and handles object lifetimes enables developers to choose appropriate data structures and algorithms that are memory-efficient for specific tasks. For instance, using generators for large iterations or optimizing class attributes with __slots__ can significantly reduce memory consumption.\n",
        "\n",
        "14- What is the role of try and except in exception handling\n",
        "\n",
        "In Python, the try and except statements are the fundamental building blocks of exception handling. The try block encloses code that might raise an exception. If an exception occurs within the try block, the program's execution jumps to the corresponding except block. This allows you to handle errors gracefully, preventing the program from crashing and allowing it to continue executing other parts of the code.\n",
        "\n",
        "15- How does Python's garbage collection system work\n",
        "\n",
        "  Understanding Python's Memory Management and Garbage ...Python's garbage collection system uses a combination of reference counting and generational garbage collection to manage memory. Reference counting tracks the number of references to each object, and when this count drops to zero, the object is immediately deallocated. Python also employs a generational garbage collector to handle cyclical references, which are situations where objects refer to each other in a loop, and a regular reference counting system can't detect them as garbage. This generational collector divides objects into different generations based on their age, with more frequent garbage collection occurring on younger objects, as they are more likely to become garbage.\n",
        "\n",
        "16- What is the purpose of the else block in exception handling\n",
        "\n",
        "The else block in exception handling (specifically in try-except-else statements) in Python is used to execute code that should only run if no exceptions are raised within the try block. It provides a way to separate the error handling code (in the except block) from the code that should execute only when the try block is successful.\n",
        "\n",
        "17-  What are the common logging levels in Python\n",
        "\n",
        "  The default log level in Python\n",
        "This means only WARNING, ERROR, and CRITICAL messages will be shown while lower-level messages like DEBUG and INFO are ignored. This default setting prioritizes essential messages, keeping log output to a minimum unless more detail is explicitly requested\n",
        "\n",
        "18- What is the difference between os.fork() and multiprocessing in Python\n",
        "\n",
        "The os.fork() function and the multiprocessing module in Python both enable the creation of new processes, but they differ significantly in their approach, portability, and ease of use.\n",
        "\n",
        "19- What is the importance of closing a file in Python\n",
        "\n",
        "Closing a file in Python after completing read or write operations is crucial for several reasons:\n",
        "Data Integrity and Persistence:\n",
        "When writing to a file, data is often buffered in memory before being physically written to the disk. Closing the file explicitly flushes this buffer, ensuring that all written data is saved and persists even if the program terminates unexpectedly.\n",
        "Resource Management:\n",
        "Files are system resources managed by the operating system. Leaving files open unnecessarily can lead to resource leaks, consuming memory and potentially exceeding the operating system's limit on the number of open file handles. This can impact system performance and stability, and in extreme cases, prevent other programs or even the current program from opening new files.\n",
        "Preventing Data Corruption:\n",
        "Proper closure ensures that the file's state is correctly managed by the operating system, reducing the risk of data corruption, especially in multi-threaded or multi-process environments where multiple entities might attempt to access the same file.\n",
        "Enabling Access for Other Programs:\n",
        "An open file might be locked by the current process, preventing other programs or processes from accessing, modifying, or deleting it. Closing the file releases this lock, allowing other applications to interact with it.\n",
        "Good Programming Practice:\n",
        "Explicitly closing files demonstrates good resource management and makes the code more robust and predictable. While Python's garbage collector might eventually close unreferenced file objects, relying on this behavior is not recommended for critical applications as the timing of closure is not guaranteed.\n",
        "Using with statements for automatic closure:\n",
        "Python's with statement and open() function, when used together, provide a robust and convenient way to ensure files are automatically closed, even if errors occur during file operations.\n",
        "\n",
        "\n",
        "20- What is the difference between file.read() and file.readline() in Python\n",
        "\n",
        "The main difference between file.read() and file.readline() in Python lies in how they read data from a file. file.read() reads the entire file content as a single string, while file.readline() reads the file one line at a time, returning each line as a string.\n",
        "\n",
        "21-What is the logging module in Python used for\n",
        "\n",
        "The Python logging module is used to track events that occur during program execution, providing a structured and flexible way to record information about errors, warnings, and other important events. It helps developers debug, troubleshoot, and monitor their programs by generating log messages that can be directed to various destinations, such as the console, files, or even remote servers.\n",
        "\n",
        "22- What is the os module in Python used for in file handling\n",
        "\n",
        "The os library in Python is a standard module that provides functions for interacting with the operating system. It acts as a bridge between Python programs and the underlying OS, enabling developers to perform tasks like file and directory manipulation, environment variable management, and process handling\n",
        "\n",
        "23- What are the challenges associated with memory management in Python\n",
        "\n",
        "Challenges associated with memory management in Python primarily stem from its automatic nature and the underlying mechanisms employed:\n",
        "Memory Leaks from Circular References:\n",
        "Python's primary memory management mechanism is reference counting, where memory is freed when an object's reference count drops to zero. However, circular references (e.g., Object A references Object B, and Object B references Object A) can prevent reference counts from ever reaching zero, leading to memory leaks even if the objects are no longer truly accessible by the program. Python's generational garbage collector addresses this by detecting and collecting such cycles.\n",
        "Memory Fragmentation:\n",
        "Repeated allocation and deallocation of objects of varying sizes can lead to memory fragmentation, where the available memory is broken into small, non-contiguous blocks. This can make it difficult to allocate larger blocks of memory, even if the total free memory is sufficient, potentially impacting performance.\n",
        "\n",
        "\n",
        "24-  How do you raise an exception manually in Python\n",
        "\n",
        "    \n",
        "To manually raise an exception in Python, use the raise statement. Here is an example of how to use it: Copied! In this example, the calculate_payment function raises a ValueError exception if the payment_type is not either \"Visa\" or \"Mastercard\".\n",
        "\n",
        "\n",
        "25- Why is it important to use multithreading in certain applications\n",
        "\n",
        "Multithreading is important in certain applications because it allows for increased performance, responsiveness, and resource utilization. By breaking down tasks into smaller threads, applications can execute multiple operations concurrently, leading to faster processing and a smoother user experience, especially in resource-intensive or interactive applications.\n",
        "\n",
        "\n",
        "\n",
        "\n",
        "\n",
        "\n"
      ],
      "metadata": {
        "id": "mco4cTg_Q1hh"
      }
    },
    {
      "cell_type": "code",
      "source": [],
      "metadata": {
        "id": "uqEaYbDHcAsU"
      },
      "execution_count": null,
      "outputs": []
    },
    {
      "cell_type": "markdown",
      "source": [
        "# Write a Python program to read the contents of a file and print each line\n",
        "\n",
        "\n"
      ],
      "metadata": {
        "id": "rG5OBhFhcBNJ"
      }
    },
    {
      "cell_type": "code",
      "source": [
        "def read_and_print_file_lines(filename):\n",
        "    \"\"\"\n",
        "    Reads the contents of a specified file and prints each line.\n",
        "\n",
        "    Args:\n",
        "        filename (str): The path to the file to be read.\n",
        "    \"\"\"\n",
        "    try:\n",
        "        with open(filename, 'r') as file:\n",
        "            for line in file:\n",
        "                print(line.strip())  # .strip() removes leading/trailing whitespace, including newline characters\n",
        "    except FileNotFoundError:\n",
        "        print(f\"Error: The file '{filename}' was not found.\")\n",
        "    except Exception as e:\n",
        "        print(f\"An unexpected error occurred: {e}\")\n",
        "\n",
        "# Example usage:\n",
        "# Create a dummy file for testing\n",
        "with open(\"sample.txt\", \"w\") as f:\n",
        "    f.write(\"This is line 1.\\n\")\n",
        "    f.write(\"This is line 2.\\n\")\n",
        "    f.write(\"Last line.\")\n",
        "\n",
        "read_and_print_file_lines(\"sample.txt\")\n",
        "print(\"\\nAttempting to read a non-existent file:\")\n",
        "read_and_print_file_lines(\"non_existent_file.txt\")"
      ],
      "metadata": {
        "id": "6bAH4brfcdJY",
        "outputId": "b0e38c74-b14c-425c-d92c-d24798f7568b",
        "colab": {
          "base_uri": "https://localhost:8080/"
        }
      },
      "execution_count": 1,
      "outputs": [
        {
          "output_type": "stream",
          "name": "stdout",
          "text": [
            "This is line 1.\n",
            "This is line 2.\n",
            "Last line.\n",
            "\n",
            "Attempting to read a non-existent file:\n",
            "Error: The file 'non_existent_file.txt' was not found.\n"
          ]
        }
      ]
    },
    {
      "cell_type": "code",
      "source": [],
      "metadata": {
        "id": "fwTQJ0dVciTo"
      },
      "execution_count": null,
      "outputs": []
    },
    {
      "cell_type": "markdown",
      "source": [
        "#  Write a Python script that reads from one file and writes its content to another file\n",
        "\n"
      ],
      "metadata": {
        "id": "BHVW-wnNcoQX"
      }
    },
    {
      "cell_type": "code",
      "source": [
        "def copy_file_content(source_file_path, destination_file_path):\n",
        "    \"\"\"\n",
        "    Reads the content of a source file and writes it to a destination file.\n",
        "\n",
        "    Args:\n",
        "        source_file_path (str): The path to the source file.\n",
        "        destination_file_path (str): The path to the destination file.\n",
        "    \"\"\"\n",
        "    try:\n",
        "        with open(source_file_path, 'r') as source_file:\n",
        "            content = source_file.read()\n",
        "\n",
        "        with open(destination_file_path, 'w') as destination_file:\n",
        "            destination_file.write(content)\n",
        "\n",
        "        print(f\"Successfully copied content from {source_file_path} to {destination_file_path}\")\n",
        "\n",
        "    except FileNotFoundError:\n",
        "        print(f\"Error: One or both files not found.\")\n",
        "    except Exception as e:\n",
        "        print(f\"An error occurred: {e}\")\n",
        "\n",
        "\n",
        "if __name__ == \"__main__\":\n",
        "    source_file = \"source.txt\"\n",
        "    destination_file = \"destination.txt\"\n",
        "\n",
        "    # Create a dummy source file for testing\n",
        "    with open(source_file, \"w\") as f:\n",
        "        f.write(\"This is the content of the source file.\\n\")\n",
        "        f.write(\"It has multiple lines.\\n\")\n",
        "\n",
        "    copy_file_content(source_file, destination_file)"
      ],
      "metadata": {
        "id": "GYgeq-Rlc11k",
        "outputId": "1512f73e-5ce5-4bb8-ff26-1c2ab0c1254e",
        "colab": {
          "base_uri": "https://localhost:8080/"
        }
      },
      "execution_count": 2,
      "outputs": [
        {
          "output_type": "stream",
          "name": "stdout",
          "text": [
            "Successfully copied content from source.txt to destination.txt\n"
          ]
        }
      ]
    },
    {
      "cell_type": "code",
      "source": [],
      "metadata": {
        "id": "E7ib3lyoc4dW"
      },
      "execution_count": null,
      "outputs": []
    },
    {
      "cell_type": "markdown",
      "source": [
        "# How would you catch and handle division by zero error in Python\n"
      ],
      "metadata": {
        "id": "nhW1Mf32c7wJ"
      }
    },
    {
      "cell_type": "markdown",
      "source": [],
      "metadata": {
        "id": "M1rrD-aQdRi3"
      }
    },
    {
      "cell_type": "code",
      "source": [
        "try:\n",
        "    numerator = 10\n",
        "    denominator = 0\n",
        "    result = numerator / denominator\n",
        "    print(result)\n",
        "except ZeroDivisionError:\n",
        "    print(\"Error: Cannot divide by zero!\")\n",
        "    result = None # Assign a default or error value if needed"
      ],
      "metadata": {
        "id": "-cDJG73NdEEF",
        "outputId": "79a1142f-af5e-41f1-d36c-f17971a8f90b",
        "colab": {
          "base_uri": "https://localhost:8080/"
        }
      },
      "execution_count": 3,
      "outputs": [
        {
          "output_type": "stream",
          "name": "stdout",
          "text": [
            "Error: Cannot divide by zero!\n"
          ]
        }
      ]
    },
    {
      "cell_type": "markdown",
      "source": [
        "# Write a program to handle a file opening error using exception handling\n",
        "\n"
      ],
      "metadata": {
        "id": "Mi52fjjXdUXL"
      }
    },
    {
      "cell_type": "code",
      "source": [
        "def open_and_read_file(filename):\n",
        "    \"\"\"\n",
        "    Attempts to open and read a file, handling potential FileNotFoundError\n",
        "    and other I/O errors.\n",
        "    \"\"\"\n",
        "    try:\n",
        "        with open(filename, 'r') as file:\n",
        "            content = file.read()\n",
        "            print(f\"File '{filename}' content:\\n{content}\")\n",
        "    except FileNotFoundError:\n",
        "        print(f\"Error: The file '{filename}' was not found.\")\n",
        "    except PermissionError:\n",
        "        print(f\"Error: Permission denied to access '{filename}'.\")\n",
        "    except IOError as e:\n",
        "        print(f\"An I/O error occurred while opening or reading '{filename}': {e}\")\n",
        "    except Exception as e:\n",
        "        print(f\"An unexpected error occurred: {e}\")\n",
        "    finally:\n",
        "        print(\"Attempted file operation complete.\")\n",
        "\n",
        "# --- Test cases ---\n",
        "\n",
        "# Case 1: File exists and can be opened\n",
        "# Create a dummy file for testing\n",
        "with open(\"existing_file.txt\", \"w\") as f:\n",
        "    f.write(\"This is a test file content.\")\n",
        "open_and_read_file(\"existing_file.txt\")\n",
        "\n",
        "print(\"\\n\" + \"=\"*30 + \"\\n\")\n",
        "\n",
        "# Case 2: File does not exist\n",
        "open_and_read_file(\"non_existent_file.txt\")\n",
        "\n",
        "print(\"\\n\" + \"=\"*30 + \"\\n\")\n",
        "\n",
        "# Case 3: Attempting to open a directory (can cause PermissionError or IsADirectoryError)\n",
        "# Note: This might behave differently on various operating systems.\n",
        "# On some systems, trying to open a directory with 'r' will raise IsADirectoryError,\n",
        "# which inherits from OSError and can be caught by PermissionError or IOError.\n",
        "# For demonstration, we'll assume a scenario where permission might be denied.\n",
        "# You might need to create a dummy directory for this test if it doesn't exist.\n",
        "# import os\n",
        "# os.makedirs(\"dummy_directory\", exist_ok=True)\n",
        "# open_and_read_file(\"dummy_directory\")\n"
      ],
      "metadata": {
        "id": "cxkFBNh7ds5J",
        "outputId": "d83e5485-8f10-49bc-b0cd-151624bc2b13",
        "colab": {
          "base_uri": "https://localhost:8080/"
        }
      },
      "execution_count": 4,
      "outputs": [
        {
          "output_type": "stream",
          "name": "stdout",
          "text": [
            "File 'existing_file.txt' content:\n",
            "This is a test file content.\n",
            "Attempted file operation complete.\n",
            "\n",
            "==============================\n",
            "\n",
            "Error: The file 'non_existent_file.txt' was not found.\n",
            "Attempted file operation complete.\n",
            "\n",
            "==============================\n",
            "\n"
          ]
        }
      ]
    },
    {
      "cell_type": "code",
      "source": [],
      "metadata": {
        "id": "7BGViKTOeBrp"
      },
      "execution_count": null,
      "outputs": []
    },
    {
      "cell_type": "markdown",
      "source": [
        "#  How can you read a file line by line and store its content in a list in Python\n"
      ],
      "metadata": {
        "id": "0-ARZpuueJUn"
      }
    },
    {
      "cell_type": "code",
      "source": [
        "file_path = \"example.txt\"\n",
        "lines_list = []\n",
        "\n",
        "try:\n",
        "    with open(file_path, 'r') as file:\n",
        "        lines_list = file.readlines()\n",
        "except FileNotFoundError:\n",
        "    print(f\"Error: The file '{file_path}' was not found.\")\n",
        "except Exception as e:\n",
        "    print(f\"An error occurred: {e}\")\n",
        "\n",
        "print(lines_list)"
      ],
      "metadata": {
        "id": "sjlKybH_eVRJ",
        "outputId": "f325c274-35e5-4700-d9bb-620ea2652e15",
        "colab": {
          "base_uri": "https://localhost:8080/"
        }
      },
      "execution_count": 5,
      "outputs": [
        {
          "output_type": "stream",
          "name": "stdout",
          "text": [
            "Error: The file 'example.txt' was not found.\n",
            "[]\n"
          ]
        }
      ]
    },
    {
      "cell_type": "code",
      "source": [],
      "metadata": {
        "id": "omgTLZmkdGpi"
      },
      "execution_count": null,
      "outputs": []
    },
    {
      "cell_type": "markdown",
      "source": [
        "#  How can you append data to an existing file in Python\n"
      ],
      "metadata": {
        "id": "rIl0XFeWea5u"
      }
    },
    {
      "cell_type": "code",
      "source": [
        "    file = open('example.txt', 'a')"
      ],
      "metadata": {
        "id": "3AQLp6w8ej28"
      },
      "execution_count": 6,
      "outputs": []
    },
    {
      "cell_type": "code",
      "source": [],
      "metadata": {
        "id": "1h-pK5pEenLM"
      },
      "execution_count": null,
      "outputs": []
    },
    {
      "cell_type": "markdown",
      "source": [
        "#Write a Python program that uses a try-except block to handle an error when attempting to access a dictionary key that doesn't exist\n",
        "\n"
      ],
      "metadata": {
        "id": "qYdWBmoSeztQ"
      }
    },
    {
      "cell_type": "code",
      "source": [
        "# Create a sample dictionary\n",
        "my_dict = {\"name\": \"Alice\", \"age\": 30, \"city\": \"New York\"}\n",
        "\n",
        "# Attempt to access a key that exists\n",
        "try:\n",
        "    existing_value = my_dict[\"name\"]\n",
        "    print(f\"Value for 'name': {existing_value}\")\n",
        "except KeyError as e:\n",
        "    print(f\"Error: Key '{e}' not found in the dictionary.\")\n",
        "\n",
        "# Attempt to access a key that does not exist\n",
        "try:\n",
        "    non_existent_value = my_dict[\"country\"]\n",
        "    print(f\"Value for 'country': {non_existent_value}\")\n",
        "except KeyError as e:\n",
        "    print(f\"Error: Key '{e}' not found in the dictionary.\")\n",
        "\n",
        "# Another example with a different non-existent key\n",
        "try:\n",
        "    another_non_existent_value = my_dict[\"occupation\"]\n",
        "    print(f\"Value for 'occupation': {another_non_existent_value}\")\n",
        "except KeyError as e:\n",
        "    print(f\"Error: Key '{e}' not found in the dictionary.\")"
      ],
      "metadata": {
        "id": "_gsejY5HfA0a",
        "outputId": "8ef24479-2752-4f0a-bdc9-729d8a120ddd",
        "colab": {
          "base_uri": "https://localhost:8080/"
        }
      },
      "execution_count": 7,
      "outputs": [
        {
          "output_type": "stream",
          "name": "stdout",
          "text": [
            "Value for 'name': Alice\n",
            "Error: Key ''country'' not found in the dictionary.\n",
            "Error: Key ''occupation'' not found in the dictionary.\n"
          ]
        }
      ]
    },
    {
      "cell_type": "code",
      "source": [],
      "metadata": {
        "id": "5TjoPvFQfDSo"
      },
      "execution_count": null,
      "outputs": []
    },
    {
      "cell_type": "markdown",
      "source": [
        "# Write a program that demonstrates using multiple except blocks to handle different types of exceptions\n",
        "\n"
      ],
      "metadata": {
        "id": "BDoz0GXUfJJF"
      }
    },
    {
      "cell_type": "code",
      "source": [
        "def perform_operations():\n",
        "    try:\n",
        "        # Attempt to get integer input\n",
        "        num1 = int(input(\"Enter the first number: \"))\n",
        "        num2 = int(input(\"Enter the second number: \"))\n",
        "\n",
        "        # Attempt division\n",
        "        result = num1 / num2\n",
        "        print(f\"The result of division is: {result}\")\n",
        "\n",
        "        # Attempt to access a list element out of bounds\n",
        "        my_list = [1, 2, 3]\n",
        "        print(f\"Accessing list element at index 5: {my_list[5]}\")\n",
        "\n",
        "    except ValueError:\n",
        "        print(\"Error: Invalid input. Please enter a valid integer.\")\n",
        "    except ZeroDivisionError:\n",
        "        print(\"Error: Cannot divide by zero. Please enter a non-zero second number.\")\n",
        "    except IndexError:\n",
        "        print(\"Error: List index out of range. You tried to access an invalid index.\")\n",
        "    except Exception as e:\n",
        "        # This generic except block catches any other unexpected exceptions\n",
        "        print(f\"An unexpected error occurred: {e}\")\n",
        "\n",
        "# Call the function to demonstrate\n",
        "perform_operations()"
      ],
      "metadata": {
        "id": "XTFcSxW2fL3f"
      },
      "execution_count": null,
      "outputs": []
    },
    {
      "cell_type": "code",
      "source": [],
      "metadata": {
        "id": "pgeA01XqfUsA"
      },
      "execution_count": null,
      "outputs": []
    },
    {
      "cell_type": "markdown",
      "source": [
        "# How would you check if a file exists before attempting to read it in Python?\n"
      ],
      "metadata": {
        "id": "zg-rZ5TPfkRm"
      }
    },
    {
      "cell_type": "code",
      "source": [
        "import os\n",
        "\n",
        "file_path = \"my_document.txt\"\n",
        "\n",
        "if os.path.exists(file_path):\n",
        "    print(f\"The file '{file_path}' exists. Attempting to read...\")\n",
        "    try:\n",
        "        with open(file_path, 'r') as f:\n",
        "            content = f.read()\n",
        "            print(\"File content:\")\n",
        "            print(content)\n",
        "    except Exception as e:\n",
        "        print(f\"An error occurred while reading the file: {e}\")\n",
        "else:\n",
        "    print(f\"The file '{file_path}' does not exist.\")"
      ],
      "metadata": {
        "id": "WHgrPZ_2fm05"
      },
      "execution_count": null,
      "outputs": []
    },
    {
      "cell_type": "markdown",
      "source": [
        "#   Write a Python program that reads a file and prints the number of occurrences of a specific word\n",
        "\n",
        "\n"
      ],
      "metadata": {
        "id": "Mnz1CzQ6f9ZP"
      }
    },
    {
      "cell_type": "code",
      "source": [
        "\n",
        "\n",
        "def count_word_occurrences(file_path, target_word):\n",
        "    \"\"\"\n",
        "    Counts the number of occurrences of a specific word in a text file.\n",
        "\n",
        "    Args:\n",
        "        file_path (str): The path to the text file.\n",
        "        target_word (str): The word to search for.\n",
        "\n",
        "    Returns:\n",
        "        int: The number of occurrences of the target word.\n",
        "    \"\"\"\n",
        "    count = 0\n",
        "    try:\n",
        "        with open(file_path, 'r') as file:\n",
        "            for line in file:\n",
        "                # Convert the line to lowercase for case-insensitive matching\n",
        "                # and split into words.\n",
        "                words = line.lower().split()\n",
        "                for word in words:\n",
        "                    # Remove punctuation if present (e.g., \"word.\" vs \"word\")\n",
        "                    cleaned_word = word.strip(\".,!?;:\\\"'()[]{}\")\n",
        "                    if cleaned_word == target_word.lower():\n",
        "                        count += 1\n",
        "    except FileNotFoundError:\n",
        "        print(f\"Error: The file '{file_path}' was not found.\")\n",
        "        return -1  # Indicate an error\n",
        "    except Exception as e:\n",
        "        print(f\"An error occurred: {e}\")\n",
        "        return -1\n",
        "    return count\n",
        "\n",
        "if __name__ == \"__main__\":\n",
        "    file_name = input(\"Enter the path to the text file: \")\n",
        "    word_to_find = input(\"Enter the word to count: \")\n",
        "\n",
        "    occurrences = count_word_occurrences(file_name, word_to_find)\n",
        "\n",
        "    if occurrences != -1:\n",
        "        print(f\"The word '{word_to_find}' appears {occurrences} times in '{file_name}'.\")"
      ],
      "metadata": {
        "id": "CTR9NeERgHyQ"
      },
      "execution_count": null,
      "outputs": []
    },
    {
      "cell_type": "code",
      "source": [],
      "metadata": {
        "id": "PddDfqaGgLX-"
      },
      "execution_count": null,
      "outputs": []
    },
    {
      "cell_type": "code",
      "source": [],
      "metadata": {
        "id": "kc0sWba2fpLb"
      },
      "execution_count": null,
      "outputs": []
    }
  ]
}